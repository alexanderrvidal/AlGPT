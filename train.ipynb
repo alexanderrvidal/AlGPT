{
 "cells": [
  {
   "cell_type": "code",
   "execution_count": 1,
   "metadata": {},
   "outputs": [],
   "source": [
    "import numpy as np \n",
    "import tiktoken as tk\n",
    "import torch\n",
    "import os "
   ]
  },
  {
   "cell_type": "code",
   "execution_count": 2,
   "metadata": {},
   "outputs": [
    {
     "name": "stdout",
     "output_type": "stream",
     "text": [
      "length of dataset 1115394\n"
     ]
    }
   ],
   "source": [
    "with open ('data.txt', 'r', encoding='utf-8') as f:\n",
    "    data = f.read()\n",
    "\n",
    "print('length of dataset', len(data))"
   ]
  },
  {
   "cell_type": "code",
   "execution_count": 3,
   "metadata": {},
   "outputs": [
    {
     "name": "stdout",
     "output_type": "stream",
     "text": [
      "First Citizen:\n",
      "Before we proceed any further, hear me speak.\n",
      "\n",
      "All:\n",
      "Speak, speak.\n",
      "\n",
      "First Citizen:\n",
      "You\n"
     ]
    }
   ],
   "source": [
    "print(data[:100])"
   ]
  },
  {
   "cell_type": "code",
   "execution_count": 4,
   "metadata": {},
   "outputs": [
    {
     "name": "stdout",
     "output_type": "stream",
     "text": [
      "\n",
      " !$&',-.3:;?ABCDEFGHIJKLMNOPQRSTUVWXYZabcdefghijklmnopqrstuvwxyz\n",
      "vocab size 65\n"
     ]
    }
   ],
   "source": [
    "# extract the unique characters that occur in this text \n",
    "chars = sorted(list(set(data)))\n",
    "vocab_size = len(chars)\n",
    "print(''.join(chars))\n",
    "print('vocab size', vocab_size)"
   ]
  },
  {
   "cell_type": "code",
   "execution_count": 5,
   "metadata": {},
   "outputs": [
    {
     "name": "stdout",
     "output_type": "stream",
     "text": [
      "encoded: [46, 43, 50, 50, 53, 1, 61, 53, 56, 50, 42]\n",
      "decoded: hello world\n"
     ]
    }
   ],
   "source": [
    "# develope a strategy to tokenize the input text \n",
    "# create a mapping from characters to integers\n",
    "char_to_int = {ch:i for i,ch in enumerate(chars)} # create a dictionary that maps characters to integers\n",
    "int_to_char = {i:ch for i,ch in enumerate(chars)} # create a dictionary that maps integers to characters\n",
    "encode = lambda x: [char_to_int[ch] for ch in x] # take a string and convert it to a list of integers\n",
    "decode = lambda x: ''.join([int_to_char[ch] for ch in x]) # take the list of integers and convert it back to a string\n",
    "\n",
    "print('encoded:', encode('hello world'))\n",
    "print('decoded:', decode(encode('hello world')))\n"
   ]
  },
  {
   "cell_type": "code",
   "execution_count": 6,
   "metadata": {},
   "outputs": [
    {
     "name": "stdout",
     "output_type": "stream",
     "text": [
      "[31373, 995]\n",
      "hello world\n",
      "number of classes: 50257\n"
     ]
    }
   ],
   "source": [
    "# Using tiktoken instead of the above simple tokenizer\n",
    "enc = tk.get_encoding('gpt2')\n",
    "print(enc.encode('hello world'))\n",
    "print(enc.decode(enc.encode('hello world')))\n",
    "\n",
    "# get number of classes from the tokenizer for the data.txt file \n",
    "print('number of classes:', enc.n_vocab)\n",
    "\n"
   ]
  },
  {
   "cell_type": "code",
   "execution_count": 7,
   "metadata": {},
   "outputs": [],
   "source": [
    "import torch\n",
    "import torch.nn as nn\n",
    "import torch.optim as optim\n",
    "import tiktoken  # Ensure tiktoken is installed\n",
    "\n",
    "class LLModel(nn.Module):\n",
    "    def __init__(self, block_size=128, batch_size=32, lr=5e-5):\n",
    "        \"\"\"\n",
    "        Initializes the LLModel class with a transformer model.\n",
    "        \"\"\"\n",
    "        super().__init__()  # Ensure the nn.Module is properly initialized\n",
    "\n",
    "        # Device setup\n",
    "        self.device = 'cuda' if torch.cuda.is_available() else 'cpu'\n",
    "\n",
    "        # Tokenizer setup using tiktoken\n",
    "        self.tokenizer = tiktoken.get_encoding('gpt2')\n",
    "        self.token_encoder = self.tokenizer.encode\n",
    "        self.token_decoder = self.tokenizer.decode\n",
    "        self.vocab_size = self.tokenizer.n_vocab\n",
    "        self.num_classes = self.vocab_size  # Assuming token-level classification\n",
    "\n",
    "        # Hyperparameters\n",
    "        self.block_size = block_size\n",
    "        self.batch_size = batch_size\n",
    "\n",
    "        # Transformer model\n",
    "        self.model = TransformerModel(\n",
    "            vocab_size=self.vocab_size,\n",
    "            embed_dim=128,\n",
    "            num_heads=4,\n",
    "            hidden_dim=256,\n",
    "            num_layers=2,\n",
    "            num_classes=self.num_classes\n",
    "        ).to(self.device)\n",
    "\n",
    "        # Loss function & optimizer\n",
    "        self.criterion = nn.CrossEntropyLoss()\n",
    "        self.optimizer = optim.AdamW(self.model.parameters(), lr=lr)\n",
    "\n",
    "    def get_batch(self, tokenized_data, split='train'):\n",
    "        \"\"\"\n",
    "        Generates a batch of input sequences based on tokenized data\n",
    "        \"\"\"\n",
    "        # Ensure enough data points are available\n",
    "        if len(tokenized_data) <= self.block_size:\n",
    "            raise ValueError(\"Not enough data for the given block size.\")\n",
    "\n",
    "        # Select train or validation set\n",
    "        data = tokenized_data if split == 'train' else tokenized_data  # Adjust if needed\n",
    "\n",
    "        ix = torch.randint(len(data) - self.block_size, (self.batch_size,))\n",
    "        x = torch.stack([data[i : i + self.block_size] for i in ix])  # Shape: (batch_size, block_size)\n",
    "        y = torch.stack([data[i + 1 : i + self.block_size + 1] for i in ix])  # Shape: (batch_size, block_size)\n",
    "        assert x.shape == y.shape, \"Input and target shapes do not match.\"\n",
    "        assert x.shape == (self.batch_size, self.block_size), f\"Invalid batch shape: {x.shape}\"\n",
    "        assert y.shape == (self.batch_size, self.block_size), f\"Invalid target shape: {y.shape}\"\n",
    "        return x, y\n",
    "\n",
    "    def train_model(self, text_data, epochs=1000, print_freq=10, train_val_split=0.8):\n",
    "        \"\"\"\n",
    "        Trains the model on input text data.\n",
    "        \"\"\"\n",
    "        best_loss = float('inf')\n",
    "        tokenized_data = torch.tensor(self.token_encoder(text_data), dtype=torch.long, device=self.device)\n",
    "        n = int(train_val_split * len(tokenized_data))\n",
    "        train_data, val_data = tokenized_data[:n], tokenized_data[n:]\n",
    "        x, y = self.get_batch(train_data, 'train')\n",
    "        x_val, y_val = self.get_batch(val_data, 'train')\n",
    "        for epoch in range(epochs):\n",
    "            self.model.train()\n",
    "            self.optimizer.zero_grad()\n",
    "            logits = self.model(x)\n",
    "            loss = self.criterion(logits.view(-1, self.num_classes), y.view(-1))\n",
    "            loss.backward()\n",
    "            self.optimizer.step()\n",
    "\n",
    "            val_loss = self.criterion(self.model(x_val).view(-1, self.num_classes), y_val.view(-1))\n",
    "\n",
    "            # Save the best model\n",
    "            if loss.item() < best_loss:\n",
    "                best_loss = loss.item()\n",
    "                torch.save(self.model.state_dict(), 'best_model.pth')\n",
    "\n",
    "            if epoch % print_freq == 0:\n",
    "                print(f\"Epoch {epoch} | Loss: {loss.item():.4f} | Val Loss: {val_loss:.4f}\")\n",
    "\n",
    "        return best_loss\n",
    "\n",
    "    def evaluate(self, text_data):\n",
    "        \"\"\"\n",
    "        Evaluates the model on a validation batch.\n",
    "        \"\"\"\n",
    "        tokenized_data = torch.tensor(self.token_encoder(text_data), dtype=torch.long, device=self.device)\n",
    "        x, y = self.get_batch(tokenized_data, 'train')\n",
    "        self.model.eval()\n",
    "        with torch.no_grad():\n",
    "            logits = self.model(x)\n",
    "            loss = self.criterion(logits.view(-1, self.num_classes),y.view(-1))\n",
    "        return loss.item()\n",
    "\n",
    "    def predict(self, text):\n",
    "        tokenized_data = torch.tensor(self.token_encoder(text), device=self.device).unsqueeze(0)\n",
    "        self.model.eval()\n",
    "        with torch.no_grad():\n",
    "            logits = self.model(tokenized_data)\n",
    "            predicted_tokens = torch.argmax(logits, dim=-1)\n",
    "            return self.token_decoder(predicted_tokens.squeeze().tolist())\n",
    "\n",
    "\n",
    "class TransformerModel(nn.Module):\n",
    "    def __init__(self, vocab_size: int, embed_dim=128, num_heads=4, hidden_dim=256, num_layers=2, num_classes=50257):\n",
    "        super().__init__()\n",
    "        self.embedding = nn.Embedding(vocab_size, embed_dim)\n",
    "        self.positional_encoding = PositionalEncoding(embed_dim)\n",
    "        self.encoder_layers = nn.TransformerEncoderLayer(\n",
    "            d_model=embed_dim, nhead=num_heads, dim_feedforward=hidden_dim, batch_first=True\n",
    "        )\n",
    "        self.transformer_encoder = nn.TransformerEncoder(self.encoder_layers, num_layers=num_layers)\n",
    "        self.classifier = nn.Linear(embed_dim, num_classes)\n",
    "\n",
    "    def forward(self, input_ids):\n",
    "        x = self.embedding(input_ids)\n",
    "        x = self.positional_encoding(x)\n",
    "        x = self.transformer_encoder(x)\n",
    "        logits = self.classifier(x)\n",
    "        return logits\n",
    "\n",
    "\n",
    "class PositionalEncoding(nn.Module):\n",
    "    \"\"\"\n",
    "    Implements positional encoding for Transformer models.\n",
    "    \"\"\"\n",
    "    def __init__(self, embed_dim, max_len=5000):\n",
    "        super(PositionalEncoding, self).__init__()\n",
    "\n",
    "        pe = torch.zeros(max_len, embed_dim)\n",
    "        position = torch.arange(0, max_len, dtype=torch.float).unsqueeze(1)\n",
    "        div_term = torch.exp(torch.arange(0, embed_dim, 2).float() * (-torch.log(torch.tensor(10000.0)) / embed_dim))\n",
    "        pe[:, 0::2] = torch.sin(position * div_term)\n",
    "        pe[:, 1::2] = torch.cos(position * div_term)\n",
    "        pe = pe.unsqueeze(0)\n",
    "\n",
    "        self.register_buffer(\"pe\", pe)\n",
    "\n",
    "    def forward(self, x):\n",
    "        return x + self.pe[:, : x.size(1), :]\n"
   ]
  },
  {
   "cell_type": "code",
   "execution_count": null,
   "metadata": {},
   "outputs": [
    {
     "name": "stdout",
     "output_type": "stream",
     "text": [
      "Epoch 0 | Loss: 10.9861 | Val Loss: 10.9722\n",
      "Epoch 10 | Loss: 10.8180 | Val Loss: 10.8259\n",
      "Epoch 20 | Loss: 10.6460 | Val Loss: 10.6790\n",
      "Epoch 30 | Loss: 10.4659 | Val Loss: 10.5267\n",
      "Epoch 40 | Loss: 10.2818 | Val Loss: 10.3641\n",
      "Epoch 50 | Loss: 10.0832 | Val Loss: 10.1953\n"
     ]
    }
   ],
   "source": [
    "# Initialize the model\n",
    "model = LLModel()\n",
    "model.train_model(data, epochs=1000, print_freq=10)"
   ]
  },
  {
   "cell_type": "code",
   "execution_count": null,
   "metadata": {},
   "outputs": [],
   "source": [
    "model.predict(data[:1000])\n"
   ]
  }
 ],
 "metadata": {
  "kernelspec": {
   "display_name": "3.11.2",
   "language": "python",
   "name": "python3"
  },
  "language_info": {
   "codemirror_mode": {
    "name": "ipython",
    "version": 3
   },
   "file_extension": ".py",
   "mimetype": "text/x-python",
   "name": "python",
   "nbconvert_exporter": "python",
   "pygments_lexer": "ipython3",
   "version": "3.11.2"
  }
 },
 "nbformat": 4,
 "nbformat_minor": 2
}
